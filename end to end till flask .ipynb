{
 "cells": [
  {
   "cell_type": "code",
   "execution_count": null,
   "id": "53f68178",
   "metadata": {},
   "outputs": [],
   "source": [
    "# Steps for Data Science Project \n",
    "\n",
    "1- 8 >> setup the env >> conda env \n",
    "1. Problem Statement \n",
    "2. Data Gathering \n",
    "3. EDA\n",
    "4. Feature Engg\n",
    "5. Feature Selection \n",
    "6. Model Training \n",
    "7. Model Evaluation \n",
    "8. API and Testing [flask] \n",
    "9. Deployment [Aws , git]"
   ]
  },
  {
   "cell_type": "code",
   "execution_count": null,
   "id": "64e1381e",
   "metadata": {},
   "outputs": [],
   "source": [
    "import numpy as np\n",
    "import pandas as pd"
   ]
  },
  {
   "cell_type": "code",
   "execution_count": null,
   "id": "79ed456a",
   "metadata": {},
   "outputs": [],
   "source": [
    "def function():\n",
    "    pass"
   ]
  },
  {
   "cell_type": "code",
   "execution_count": 1,
   "id": "8c8ecc1a",
   "metadata": {},
   "outputs": [
    {
     "name": "stdout",
     "output_type": "stream",
     "text": [
      "hi\n"
     ]
    }
   ],
   "source": [
    "print(f\"hi\")"
   ]
  },
  {
   "cell_type": "code",
   "execution_count": 2,
   "id": "d2ab77b8",
   "metadata": {},
   "outputs": [
    {
     "name": "stdout",
     "output_type": "stream",
     "text": [
      "Python 3.10.9\n"
     ]
    }
   ],
   "source": [
    "!python --version"
   ]
  },
  {
   "cell_type": "code",
   "execution_count": 2,
   "id": "d2affd1f",
   "metadata": {},
   "outputs": [
    {
     "name": "stdout",
     "output_type": "stream",
     "text": [
      "satyam\n"
     ]
    }
   ],
   "source": [
    "print(\"satyam\")"
   ]
  },
  {
   "cell_type": "code",
   "execution_count": 1,
   "id": "8f557ad1",
   "metadata": {},
   "outputs": [
    {
     "name": "stdout",
     "output_type": "stream",
     "text": [
      "hi Ajinkya\n"
     ]
    }
   ],
   "source": [
    "print(\"hi Ajinkya\")"
   ]
  },
  {
   "cell_type": "code",
   "execution_count": 2,
   "id": "a803f377",
   "metadata": {},
   "outputs": [
    {
     "name": "stdout",
     "output_type": "stream",
     "text": [
      "hi ishaan\n"
     ]
    }
   ],
   "source": [
    "print(\"hi ishaan\")"
   ]
  },
  {
   "cell_type": "code",
   "execution_count": null,
   "id": "6e94bd13",
   "metadata": {},
   "outputs": [],
   "source": []
  }
 ],
 "metadata": {
  "kernelspec": {
   "display_name": "Python 3 (ipykernel)",
   "language": "python",
   "name": "python3"
  },
  "language_info": {
   "codemirror_mode": {
    "name": "ipython",
    "version": 3
   },
   "file_extension": ".py",
   "mimetype": "text/x-python",
   "name": "python",
   "nbconvert_exporter": "python",
   "pygments_lexer": "ipython3",
   "version": "3.9.12"
  }
 },
 "nbformat": 4,
 "nbformat_minor": 5
}
